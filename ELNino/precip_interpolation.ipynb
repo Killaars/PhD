{
 "cells": [
  {
   "cell_type": "code",
   "execution_count": 52,
   "metadata": {
    "collapsed": false
   },
   "outputs": [
    {
     "name": "stdout",
     "output_type": "stream",
     "text": [
      "(31,) (2160,) (4320,)\n",
      "(31, 2160, 4320)\n",
      "[ 89.9583     89.8749641  89.7916282 ..., -89.7972363 -89.8805722\n",
      " -89.9639081]\n",
      "removed\n"
     ]
    }
   ],
   "source": [
    "import numpy as np\n",
    "import pandas as pd\n",
    "import os,sys\n",
    "import netCDF4 as nc\n",
    "\n",
    "file='/Users/killaars/PhD/Elnino/MSWEP/test.nc'\n",
    "\n",
    "file_in=nc.Dataset(file,mode='r')\n",
    "\n",
    "precip = file_in.variables['precipitation'][:]\n",
    "lat_in=file_in.variables['lat'][:]\n",
    "lon_in=file_in.variables['lon'][:]\n",
    "times = file_in.variables['time'][:]\n",
    "\n",
    "# Check if ouput file is present, if so remove it\n",
    "filenameout='/Users/killaars/PhD/Elnino/MSWEP/sample_out.nc'\n",
    "if os.path.exists(filenameout):\n",
    "    os.remove(filenameout)\n",
    "    print('removed')\n",
    "else:\n",
    "    print(\"not removed\")\n",
    "\n",
    "# Create file\n",
    "rootgrp= nc.Dataset(filenameout,'w')\n",
    "\n",
    "#-create dimensions - time is unlimited, others are fixed\n",
    "rootgrp.createDimension('time',None)\n",
    "rootgrp.createDimension('lat',len(lat_in))\n",
    "rootgrp.createDimension('lon',len(lon_in))\n",
    "\n",
    "date_time= rootgrp.createVariable('time','f4',('time',))\n",
    "date_time.standard_name= 'time'\n",
    "date_time.calendar= 'standard'\n",
    "\n",
    "lat= rootgrp.createVariable('lat','f4',('lat',))\n",
    "lat.long_name= 'latitude'\n",
    "lat.units= 'degrees_north'\n",
    "lat.standard_name = 'latitude'\n",
    "\n",
    "lon= rootgrp.createVariable('lon','f4',('lon',))\n",
    "lon.standard_name= 'longitude'\n",
    "lon.long_name= 'longitude'\n",
    "lon.units= 'degrees_east'\n",
    "\n",
    "lat[:]= lat_in\n",
    "lon[:]= lon_in\n",
    "\n",
    "shortVarName = 'Precipitation'\n",
    "\n",
    "var= rootgrp.createVariable('Precipitation','f4',('time','lat','lon',) ,zlib=False)\n",
    "var.standard_name = shortVarName\n",
    "var.units = 'm day-1'\n",
    "\n",
    "for time in np.arange(len(times)):\n",
    "    #print(time)\n",
    "    for hour in np.arange(8):\n",
    "        index=hour+time*8\n",
    "        var[index,:,:] = precip[time,:,:]/8\n",
    "\n",
    "        \n",
    "rootgrp.sync()\n",
    "rootgrp.close()\n",
    "        "
   ]
  }
 ],
 "metadata": {
  "kernelspec": {
   "display_name": "Python 3",
   "language": "python",
   "name": "python3"
  },
  "language_info": {
   "codemirror_mode": {
    "name": "ipython",
    "version": 3
   },
   "file_extension": ".py",
   "mimetype": "text/x-python",
   "name": "python",
   "nbconvert_exporter": "python",
   "pygments_lexer": "ipython3",
   "version": "3.6.0"
  }
 },
 "nbformat": 4,
 "nbformat_minor": 2
}

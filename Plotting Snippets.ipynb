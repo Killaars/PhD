{
 "cells": [
  {
   "cell_type": "code",
   "execution_count": null,
   "metadata": {
    "collapsed": true
   },
   "outputs": [],
   "source": [
    "# General Snippets\n",
    "import matplotlib.pyplot as plt\n",
    "import seaborn as sns\n",
    "\n",
    "# Beginning of plot:\n",
    "# Create empty plot, specify the 'ax' names of the subplots, y,x distribution of subplots, sharex,sharey, figsize\n",
    "f, (ax1,ax2,ax3,ax4) = plt.subplots(4, 1, sharex=True,figsize=(24, 10))\n",
    "\n",
    "# Set values for labels and titles. use '\\n' to create a break in a sentence\n",
    "ax1.set(xlabel='', ylabel='',title='')\n",
    "\n",
    "# Set fontsize or other properties for multiple items in one go\n",
    "for item in ([ax1.title, ax1.xaxis.label, ax1.yaxis.label],ax1.get_xticklabels() + ax1.get_yticklabels()):\n",
    "    item.set_fontsize(18)\n",
    "    \n",
    "# Show legend\n",
    "ax1.legend(loc='center left', bbox_to_anchor=(1, 0.5),fontsize=18)\n",
    "\n",
    "# Save plot with a certain resolution \n",
    "plt.savefig('TITLE.png',dpi=300)\n",
    "\n",
    "# Show plot\n",
    "plt.show()"
   ]
  },
  {
   "cell_type": "code",
   "execution_count": null,
   "metadata": {
    "collapsed": true
   },
   "outputs": [],
   "source": [
    "# Filled errorbar graph\n",
    "\n",
    "ax1.plot(x,y, color = 'color', ms='size of line, give integer', label='Legend label')\n",
    "ax1.fill_between(x, y_low, _high, alpha=, edgecolor='', facecolor='')"
   ]
  },
  {
   "cell_type": "code",
   "execution_count": null,
   "metadata": {
    "collapsed": true
   },
   "outputs": [],
   "source": [
    "# Worldmap\n",
    "# Initialise figure\n",
    "plt.figure(figsize=(20,10))\n",
    "# Select projection from basemap (see list and requirements per basemap at https://matplotlib.org/basemap/users/mapsetup.html)\n",
    "m = Basemap(projection='moll',lon_0=0,resolution='c')\n",
    "# Drawing the background, see https://matplotlib.org/basemap/users/geography.html\n",
    "# Fill map with colour or leave empty. Use only when your values do not cover everything on the map\n",
    "m.shadedrelief(alpha=.5)\n",
    "# Does what it says\n",
    "m.drawcoastlines(color='lightgrey')\n",
    "m.drawcountries()\n",
    "m.drawlsmask(land_color='coral',ocean_color='aqua',lakes=True) # not necessary when shadedrelief is used\n",
    "# draw parallels and meridians.\n",
    "parallels = np.arange(-90.,91.,10.)\n",
    "# Label the meridians and parallels\n",
    "m.drawparallels(parallels,labels=[False,False,False,False],color='lightgrey')\n",
    "# Draw Meridians and Labels\n",
    "meridians = np.arange(-180.,181.,20.)\n",
    "m.drawmeridians(meridians,labels=[False,False,False,False],color='lightgrey')\n",
    "m.drawmapboundary(fill_color='white')\n",
    "\n",
    "\n",
    "plt.title(\"\", fontsize=18)\n",
    "# Define a colormap\n",
    "jet = plt.cm.get_cmap('jet')\n",
    "# Transform points into Map's projection\n",
    "x,y = m(x_values, y_values)\n",
    "# Color the transformed points!\n",
    "# Obtain min and max, for the colorbar\n",
    "min_value = np.min(z_values)\n",
    "max_value = np.max(z_values)\n",
    "min_value=0\n",
    "max_value=50\n",
    "sc = plt.scatter(x,y, c=z_values, vmin=min_value, vmax =max_value, cmap=jet, s=30, edgecolors='none')\n",
    "# And let's include that colorbar\n",
    "cbar = plt.colorbar(sc, shrink = .5)\n",
    "cbar.ax.tick_params(labelsize=18)\n",
    "cbar.set_label('')\n",
    "plt.savefig('ccgcrv_amplitude_observations.png',dpi=300)\n",
    "plt.show()"
   ]
  }
 ],
 "metadata": {
  "kernelspec": {
   "display_name": "Python 3",
   "language": "python",
   "name": "python3"
  },
  "language_info": {
   "codemirror_mode": {
    "name": "ipython",
    "version": 3
   },
   "file_extension": ".py",
   "mimetype": "text/x-python",
   "name": "python",
   "nbconvert_exporter": "python",
   "pygments_lexer": "ipython3",
   "version": "3.6.0"
  }
 },
 "nbformat": 4,
 "nbformat_minor": 2
}

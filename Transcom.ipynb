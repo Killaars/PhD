{
 "cells": [
  {
   "cell_type": "code",
   "execution_count": 29,
   "metadata": {
    "collapsed": false
   },
   "outputs": [
    {
     "name": "stdout",
     "output_type": "stream",
     "text": [
      "(360, 720)\n",
      "(265, 8, 360, 720)\n"
     ]
    }
   ],
   "source": [
    "import numpy as np\n",
    "import netCDF4 as nc\n",
    "\n",
    "transcom_filename = '/nobackup/users/killaars/PhD_data/CO2-emissiebestanden-CMIP6/transcom_regions_30min.nc'\n",
    "transcom_fh = nc.Dataset(transcom_filename,mode='r')\n",
    "transcom = transcom_fh.variables['transcom_regions'][:]\n",
    "print np.shape(transcom)\n",
    "\n",
    "CO2_filename = '/nobackup/users/killaars/PhD_data/CO2-emissiebestanden-CMIP6/2D-SECTORS/full_year.nc'\n",
    "CO2_fh = nc.Dataset(CO2_filename,mode='r')\n",
    "\n",
    "\n",
    "CO2 = CO2_fh.variables['CO2_em_anthro'][:]\n",
    "lons = CO2_fh.variables['lon'][:]\n",
    "lats = CO2_fh.variables['lat'][:]\n",
    "times = CO2_fh.variables['time'][:]\n",
    "sectors = CO2_fh.variables['sector'][:]\n",
    "CO2_fh.close()\n",
    "\n",
    "print(np.shape(CO2))"
   ]
  },
  {
   "cell_type": "code",
   "execution_count": 30,
   "metadata": {
    "collapsed": false
   },
   "outputs": [
    {
     "name": "stdout",
     "output_type": "stream",
     "text": [
      "(720,)\n",
      "(360,)\n",
      "(265,)\n",
      "(8,)\n"
     ]
    }
   ],
   "source": [
    "import sys\n",
    "CO2_mean = np.zeros([len(times),len(sectors),len(lats),len(lons)])\n",
    "CO2_sum = np.zeros([len(times),len(sectors),len(lats),len(lons)])\n",
    "miniarray = np.arange(2)\n",
    "for timestep in range(len(times)):\n",
    "    for sectorstep in range(len(sectors)):\n",
    "        CO2_step = CO2[timestep,sectorstep,:,:]\n",
    "        for i in range(23):\n",
    "            i+=1\n",
    "            #print(i)\n",
    "            mask = np.where(transcom==i,True,False)\n",
    "            CO2_mean[timestep,sectorstep,:,:][mask]=np.mean(CO2_step[mask])\n",
    "            CO2_sum[timestep,sectorstep,:,:][mask]=np.sum(CO2_step[mask])\n",
    "\n",
    "print(np.shape(lons))\n",
    "print(np.shape(lats))\n",
    "print(np.shape(times))\n",
    "print(np.shape(sectors))"
   ]
  },
  {
   "cell_type": "code",
   "execution_count": 31,
   "metadata": {
    "collapsed": false
   },
   "outputs": [
    {
     "name": "stdout",
     "output_type": "stream",
     "text": [
      "sector 8 False\n",
      "lat 360 False\n",
      "lon 720 False\n",
      "time 0 True\n",
      "time float64 (u'time',) (0,)\n",
      "sector int32 (u'sector',) (8,)\n",
      "latitude float32 (u'lat',) (360,)\n",
      "longitude float32 (u'lon',) (720,)\n",
      "emissions_sum float32 (u'time', u'sector', u'lat', u'lon') (0, 8, 360, 720)\n",
      "sector 8 False\n",
      "lat 360 False\n",
      "lon 720 False\n",
      "time 0 True\n",
      "time float64 (u'time',) (0,)\n",
      "sector int32 (u'sector',) (8,)\n",
      "latitude float32 (u'lat',) (360,)\n",
      "longitude float32 (u'lon',) (720,)\n",
      "emissions_mean float32 (u'time', u'sector', u'lat', u'lon') (0, 8, 360, 720)\n"
     ]
    }
   ],
   "source": [
    "import os\n",
    "#os.remove('/nobackup/users/killaars/PhD_data/CO2-emissiebestanden-CMIP6/testpython.nc')\n",
    "\n",
    "# Total Emissions - Sum\n",
    "os.remove('/nobackup/users/killaars/PhD_data/CO2-emissiebestanden-CMIP6/Emissions_sum_year.nc')\n",
    "dataset = nc.Dataset('/nobackup/users/killaars/PhD_data/CO2-emissiebestanden-CMIP6/Emissions_sum_year.nc','w',format='NETCDF4_CLASSIC')\n",
    "sector = dataset.createDimension('sector', 8)\n",
    "lat = dataset.createDimension('lat', 360)\n",
    "lon = dataset.createDimension('lon', 720)\n",
    "time = dataset.createDimension('time', None)\n",
    "for dimname in dataset.dimensions.keys():\n",
    "    dim = dataset.dimensions[dimname]\n",
    "    print dimname, len(dim), dim.isunlimited()\n",
    "# Create coordinate variables for 4-dimensions\n",
    "time_out = dataset.createVariable('time', np.float64, ('time',))\n",
    "sector_out = dataset.createVariable('sector', np.int32, ('sector',))\n",
    "lat_out = dataset.createVariable('latitude', np.float32, ('lat',))\n",
    "lon_out = dataset.createVariable('longitude', np.float32, ('lon',)) \n",
    "# Create the actual 4-d variable\n",
    "emissions_sum = dataset.createVariable('emissions_sum', np.float32,('time','sector','lat','lon'))\n",
    "\n",
    "for varname in dataset.variables.keys():\n",
    "    var = dataset.variables[varname]\n",
    "    print varname, var.dtype, var.dimensions, var.shape\n",
    "    \n",
    "# Fill the file\n",
    "lat_out[:] = lats\n",
    "lon_out[:] = lons\n",
    "time_out[:]= times\n",
    "sector_out[:]=sectors\n",
    "emissions_sum[:,:,:,:]=CO2_sum\n",
    "dataset.close()\n",
    "\n",
    "# Average Emissions - Mean\n",
    "os.remove('/nobackup/users/killaars/PhD_data/CO2-emissiebestanden-CMIP6/Emissions_mean_year.nc')\n",
    "dataset = nc.Dataset('/nobackup/users/killaars/PhD_data/CO2-emissiebestanden-CMIP6/Emissions_mean_year.nc','w',format='NETCDF4_CLASSIC')\n",
    "sector = dataset.createDimension('sector', 8)\n",
    "lat = dataset.createDimension('lat', 360)\n",
    "lon = dataset.createDimension('lon', 720)\n",
    "time = dataset.createDimension('time', None)\n",
    "for dimname in dataset.dimensions.keys():\n",
    "    dim = dataset.dimensions[dimname]\n",
    "    print dimname, len(dim), dim.isunlimited()\n",
    "# Create coordinate variables for 4-dimensions\n",
    "time_out = dataset.createVariable('time', np.float64, ('time',))\n",
    "sector_out = dataset.createVariable('sector', np.int32, ('sector',))\n",
    "lat_out = dataset.createVariable('latitude', np.float32, ('lat',))\n",
    "lon_out = dataset.createVariable('longitude', np.float32, ('lon',)) \n",
    "# Create the actual 4-d variable\n",
    "emissions_mean = dataset.createVariable('emissions_mean', np.float32,('time','sector','lat','lon'))\n",
    "\n",
    "for varname in dataset.variables.keys():\n",
    "    var = dataset.variables[varname]\n",
    "    print varname, var.dtype, var.dimensions, var.shape\n",
    "    \n",
    "# Fill the file\n",
    "lat_out[:] = lats\n",
    "lon_out[:] = lons\n",
    "time_out[:]= times\n",
    "sector_out[:]=sectors\n",
    "emissions_mean[:,:,:,:]=CO2_mean\n",
    "dataset.close()"
   ]
  },
  {
   "cell_type": "code",
   "execution_count": 105,
   "metadata": {
    "collapsed": false
   },
   "outputs": [
    {
     "name": "stdout",
     "output_type": "stream",
     "text": [
      "[[1 2 3]\n",
      " [4 5 6]\n",
      " [7 8 9]]\n",
      "[[False False False]\n",
      " [False False False]\n",
      " [ True  True  True]]\n"
     ]
    },
    {
     "data": {
      "text/plain": [
       "array([[ 1,  2,  3],\n",
       "       [ 4,  5,  6],\n",
       "       [24, 24, 24]])"
      ]
     },
     "execution_count": 105,
     "metadata": {},
     "output_type": "execute_result"
    }
   ],
   "source": [
    "test=np.arange(9)+1\n",
    "test = np.reshape(test,(3,3))\n",
    "testmask = np.where(test>6,True,False)\n",
    "print(test)\n",
    "print(testmask)\n",
    "test[testmask] = np.sum(test[testmask])\n",
    "test"
   ]
  },
  {
   "cell_type": "code",
   "execution_count": 24,
   "metadata": {
    "collapsed": false
   },
   "outputs": [
    {
     "name": "stdout",
     "output_type": "stream",
     "text": [
      "[[[[ 1.  1.  1.  1.  1.]\n",
      "   [ 1.  1.  1.  1.  1.]\n",
      "   [ 1.  1.  1.  1.  1.]\n",
      "   [ 1.  1.  1.  1.  1.]\n",
      "   [ 1.  1.  1.  1.  1.]]\n",
      "\n",
      "  [[ 1.  1.  1.  1.  1.]\n",
      "   [ 1.  1.  1.  1.  1.]\n",
      "   [ 1.  1.  1.  1.  1.]\n",
      "   [ 1.  1.  1.  1.  1.]\n",
      "   [ 1.  1.  1.  1.  1.]]]\n",
      "\n",
      "\n",
      " [[[ 1.  1.  1.  1.  1.]\n",
      "   [ 1.  1.  1.  1.  1.]\n",
      "   [ 1.  1.  1.  1.  1.]\n",
      "   [ 1.  1.  1.  1.  1.]\n",
      "   [ 1.  1.  1.  1.  1.]]\n",
      "\n",
      "  [[ 1.  1.  1.  1.  1.]\n",
      "   [ 1.  1.  1.  1.  1.]\n",
      "   [ 1.  1.  1.  1.  1.]\n",
      "   [ 1.  1.  1.  1.  1.]\n",
      "   [ 1.  1.  1.  1.  1.]]]]\n",
      "[[ 1  2  3  4  5]\n",
      " [ 6  7  8  9 10]\n",
      " [11 12 13 14 15]\n",
      " [16 17 18 19 20]\n",
      " [21 22 23 24 25]]\n",
      "[[ 1.  1.  1.  1.  1.]\n",
      " [ 1.  1.  1.  1.  1.]\n",
      " [ 1.  1.  1.  1.  1.]\n",
      " [ 1.  1.  1.  1.  1.]\n",
      " [ 1.  1.  1.  1.  1.]]\n",
      "[[ 1.  1.  1.  1.  1.]\n",
      " [ 1.  1.  1.  1.  1.]\n",
      " [ 1.  1.  1.  1.  1.]\n",
      " [ 1.  1.  1.  1.  1.]\n",
      " [ 1.  1.  1.  1.  1.]]\n",
      "[[ 1.  1.  1.  1.  1.]\n",
      " [ 1.  1.  1.  1.  1.]\n",
      " [ 1.  1.  1.  1.  1.]\n",
      " [ 1.  1.  1.  1.  1.]\n",
      " [ 1.  1.  1.  1.  1.]]\n",
      "[[ 1.  1.  1.  1.  1.]\n",
      " [ 1.  1.  1.  1.  1.]\n",
      " [ 1.  1.  1.  1.  1.]\n",
      " [ 1.  1.  1.  1.  1.]\n",
      " [ 1.  1.  1.  1.  1.]]\n",
      "[[[[ 0.  0.  0.  0.  0.]\n",
      "   [ 0.  0.  0.  0.  0.]\n",
      "   [ 0.  0.  0.  0.  0.]\n",
      "   [ 0.  0.  0.  0.  0.]\n",
      "   [ 1.  1.  1.  1.  1.]]\n",
      "\n",
      "  [[ 0.  0.  0.  0.  0.]\n",
      "   [ 0.  0.  0.  0.  0.]\n",
      "   [ 0.  0.  0.  0.  0.]\n",
      "   [ 0.  0.  0.  0.  0.]\n",
      "   [ 1.  1.  1.  1.  1.]]]\n",
      "\n",
      "\n",
      " [[[ 0.  0.  0.  0.  0.]\n",
      "   [ 0.  0.  0.  0.  0.]\n",
      "   [ 0.  0.  0.  0.  0.]\n",
      "   [ 0.  0.  0.  0.  0.]\n",
      "   [ 1.  1.  1.  1.  1.]]\n",
      "\n",
      "  [[ 0.  0.  0.  0.  0.]\n",
      "   [ 0.  0.  0.  0.  0.]\n",
      "   [ 0.  0.  0.  0.  0.]\n",
      "   [ 0.  0.  0.  0.  0.]\n",
      "   [ 1.  1.  1.  1.  1.]]]]\n",
      "[[[[ 0.  0.  0.  0.  0.]\n",
      "   [ 0.  0.  0.  0.  0.]\n",
      "   [ 0.  0.  0.  0.  0.]\n",
      "   [ 0.  0.  0.  0.  0.]\n",
      "   [ 5.  5.  5.  5.  5.]]\n",
      "\n",
      "  [[ 0.  0.  0.  0.  0.]\n",
      "   [ 0.  0.  0.  0.  0.]\n",
      "   [ 0.  0.  0.  0.  0.]\n",
      "   [ 0.  0.  0.  0.  0.]\n",
      "   [ 5.  5.  5.  5.  5.]]]\n",
      "\n",
      "\n",
      " [[[ 0.  0.  0.  0.  0.]\n",
      "   [ 0.  0.  0.  0.  0.]\n",
      "   [ 0.  0.  0.  0.  0.]\n",
      "   [ 0.  0.  0.  0.  0.]\n",
      "   [ 5.  5.  5.  5.  5.]]\n",
      "\n",
      "  [[ 0.  0.  0.  0.  0.]\n",
      "   [ 0.  0.  0.  0.  0.]\n",
      "   [ 0.  0.  0.  0.  0.]\n",
      "   [ 0.  0.  0.  0.  0.]\n",
      "   [ 5.  5.  5.  5.  5.]]]]\n"
     ]
    }
   ],
   "source": [
    "CO2_mean = np.zeros([2,2,5,5])\n",
    "CO2_sum = np.zeros([2,2,5,5])\n",
    "testarray = np.ones([2,2,5,5])\n",
    "print(testarray)\n",
    "testmask = np.reshape((np.arange(25)+1),(5,5))\n",
    "print(testmask)\n",
    "\n",
    "for timestep in range(2):\n",
    "    for sectorstep in range(2):\n",
    "        test=testarray[timestep,sectorstep,:,:]\n",
    "        print(test)\n",
    "        mask = np.where(testmask>20,True,False)\n",
    "        CO2_mean[timestep,sectorstep,:,:][mask] = np.mean(test[mask])\n",
    "        CO2_sum[timestep,sectorstep,:,:][mask] = np.sum(test[mask])\n",
    "        \n",
    "print(CO2_mean)\n",
    "print(CO2_sum)"
   ]
  }
 ],
 "metadata": {
  "kernelspec": {
   "display_name": "Python 2",
   "language": "python",
   "name": "python2"
  },
  "language_info": {
   "codemirror_mode": {
    "name": "ipython",
    "version": 2
   },
   "file_extension": ".py",
   "mimetype": "text/x-python",
   "name": "python",
   "nbconvert_exporter": "python",
   "pygments_lexer": "ipython2",
   "version": "2.7.13"
  }
 },
 "nbformat": 4,
 "nbformat_minor": 0
}
